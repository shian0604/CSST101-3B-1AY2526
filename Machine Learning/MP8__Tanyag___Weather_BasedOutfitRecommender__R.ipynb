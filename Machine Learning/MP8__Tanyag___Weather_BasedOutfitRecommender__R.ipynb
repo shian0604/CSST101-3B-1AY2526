{
  "nbformat": 4,
  "nbformat_minor": 0,
  "metadata": {
    "colab": {
      "provenance": []
    },
    "kernelspec": {
      "name": "ir",
      "display_name": "R"
    },
    "language_info": {
      "name": "R"
    }
  },
  "cells": [
    {
      "cell_type": "code",
      "source": [
        "# Title: Weather-Based Outfit Recommender\n",
        "print(\"⋆⁺₊⋆ ☾⋆⁺₊⋆ Weather-Based Outfit Recommender ⋆⁺₊⋆ ☾⋆⁺₊⋆\")\n",
        "print(\"/ᐠ - ˕ -マ _______________________________ ٩(^ᗜ^ )و ´-\")\n",
        "weather <- tolower(readline(prompt=\"☾⋆｡ ๋࣭ ⭑˚What is the current weather today? (Sunny, Rainy, Hot, Stormy, Snowy)\"))\n",
        "\n",
        "if (weather == \"sunny\") {\n",
        "  outfit <- tolower(readline(prompt=\"☾⋆｡ ๋࣭ ⭑˚Do you like sleeveless clothes? (yes/no): \"))\n",
        "  if (outfit == \"yes\") {\n",
        "    print(\"☾⋆｡ ๋࣭ ⭑˚Suggested Outfit: Sando with Shorts ◝(ᵔᗜᵔ)◜\") #Suggested Outfit if the user likes sleeves\n",
        "  } else {\n",
        "    print(\"☾⋆｡ ๋࣭ ⭑˚Suggested Outfit: T-Shirt with Pants/Shorts ◝(ᵔᗜᵔ)◜\") #Suggested Outfit if the user does not like Sleeves\n",
        "  }\n",
        "} else if (weather == \"rainy\") {\n",
        "  raincoat <- tolower(readline(prompt=\"☾⋆｡ ๋࣭ ⭑˚Do you have a raincoat? (yes/no): \"))\n",
        "  if (raincoat == \"yes\") {\n",
        "    print(\"☾⋆｡ ๋࣭ ⭑˚Suggested Outfit: Wear your raincoat along with a pair of boots! ◝(ᵔᗜᵔ)◜\") #Suggested Outfit if the user has a raincoat\n",
        "  } else {\n",
        "    print(\"☾⋆｡ ๋࣭ ⭑˚Suggested Outfit: Wear a long sleeve with a pair of pants. Bring an umbrella as well. ◝(ᵔᗜᵔ)◜\")  #Suggested Outfit if the user does not have a raincoat\n",
        "  }\n",
        "} else if (weather == \"hot\") {\n",
        "  ask <- tolower(readline(prompt=\"☾⋆｡ ๋࣭ ⭑˚Will you go outside? (yes/no): \"))\n",
        "  if (ask == \"yes\") {\n",
        "    print(\"☾⋆｡ ๋࣭ ⭑˚Suggested Outfit: Wear Sleeveless Clothes with shorts or pair it with a T-Shirt ◝(ᵔᗜᵔ)◜\")  #Suggested Outfit if the user will go outside\n",
        "  } else {\n",
        "    print(\"☾⋆｡ ๋࣭ ⭑˚Suggested Outfit: Wear comfortable clothes like a Sando and Shorts ◝(ᵔᗜᵔ)◜\") #Suggested Outfit if the user will not go outside\n",
        "  }\n",
        "} else if (weather == \"stormy\") {\n",
        "  ask <- tolower(readline(prompt=\"☾⋆｡ ๋࣭ ⭑˚Will you go outside? (yes/no): \"))\n",
        "  if (ask == \"yes\") {\n",
        "    print(\"☾⋆｡ ๋࣭ ⭑˚Suggested Outfit: Wear a thick Jacket/Raincoat and bring a sturdy umbrella along with you ◝(ᵔᗜᵔ)◜\") #Suggested Outfit if the user will go outside\n",
        "  } else {\n",
        "    print(\"☾⋆｡ ๋࣭ ⭑˚Suggested Outfit: Wear thick layered clothes like a Jacket and pajamas ◝(ᵔᗜᵔ)◜\") #Suggested Outfit if the user will not go outside\n",
        "  }\n",
        "} else if (weather == \"snowy\") {\n",
        "  ask <- tolower(readline(prompt=\"☾⋆｡ ๋࣭ ⭑˚Will you go outside? (yes/no): \"))\n",
        "  if (ask == \"yes\") {\n",
        "    print(\"☾⋆｡ ๋࣭ ⭑˚Suggested Outfit: Wear a thick Jacket with pants ◝(ᵔᗜᵔ)◜\") #Suggested Outfit if the user will go outside\n",
        "  } else {\n",
        "    print(\"☾⋆｡ ๋࣭ ⭑˚Suggested Outfit: Wear thick layered clothes like a Jacket and pajamas ◝(ᵔᗜᵔ)◜\") #Suggested Outfit if the user will not go outside\n",
        "  }\n",
        "} else {\n",
        "  print(\"☾⋆｡ ๋࣭ ⭑˚Please input the current weather today . . .\")\n",
        "}\n"
      ],
      "metadata": {
        "colab": {
          "base_uri": "https://localhost:8080/"
        },
        "id": "Sga7OCn2oL7u",
        "outputId": "b45d0537-c9b8-41ae-ada3-9db3e45640f6"
      },
      "execution_count": 10,
      "outputs": [
        {
          "output_type": "stream",
          "name": "stdout",
          "text": [
            "[1] \"⋆⁺₊⋆ ☾⋆⁺₊⋆ Weather-Based Outfit Reccomender ⋆⁺₊⋆ ☾⋆⁺₊⋆\"\n",
            "[1] \"/ᐠ - ˕ -マ _______________________________ ٩(^ᗜ^ )و ´-\"\n"
          ]
        }
      ]
    },
    {
      "cell_type": "code",
      "source": [],
      "metadata": {
        "id": "eSdGcWUNrUz5"
      },
      "execution_count": null,
      "outputs": []
    }
  ]
}