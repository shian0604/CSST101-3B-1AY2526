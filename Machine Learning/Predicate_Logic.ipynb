{
  "nbformat": 4,
  "nbformat_minor": 0,
  "metadata": {
    "colab": {
      "provenance": []
    },
    "kernelspec": {
      "name": "python3",
      "display_name": "Python 3"
    },
    "language_info": {
      "name": "python"
    }
  },
  "cells": [
    {
      "cell_type": "markdown",
      "source": [
        "# **1. Unification Checker**"
      ],
      "metadata": {
        "id": "fX4rr8HKoIQg"
      }
    },
    {
      "cell_type": "code",
      "execution_count": 1,
      "metadata": {
        "colab": {
          "base_uri": "https://localhost:8080/"
        },
        "id": "-Fm44994oHNv",
        "outputId": "95fd4498-682c-4251-c332-3aae17a85363"
      },
      "outputs": [
        {
          "output_type": "stream",
          "name": "stdout",
          "text": [
            "{'x': 'y'}\n"
          ]
        }
      ],
      "source": [
        "def unify(p1, p2):\n",
        "    f1, f2 = p1.split(\"(\")[0], p2.split(\"(\")[0]\n",
        "    if f1 != f2: return \"Cannot be unified\"\n",
        "\n",
        "    a1, a2 = p1[p1.find(\"(\")+1:-1].split(\",\"), p2[p2.find(\"(\")+1:-1].split(\",\")\n",
        "    if len(a1) != len(a2): return \"Cannot be unified\"\n",
        "\n",
        "    subs = {}\n",
        "    for x, y in zip(a1, a2):\n",
        "        x, y = x.strip(), y.strip()\n",
        "        if x == y: continue\n",
        "        if x.islower(): subs[x] = y\n",
        "        elif y.islower(): subs[y] = x\n",
        "        else: return \"Cannot be unified\"\n",
        "\n",
        "    return subs or \"Already unified\"\n",
        "\n",
        "# Test\n",
        "print(unify(\"Parent(John, x)\", \"Parent(John, y)\"))\n"
      ]
    },
    {
      "cell_type": "code",
      "source": [
        "def unify(p1, p2):\n",
        "    f1, f2 = p1.split(\"(\")[0], p2.split(\"(\")[0]\n",
        "    if f1 != f2: return \"Cannot be unified\"\n",
        "\n",
        "    a1, a2 = p1[p1.find(\"(\")+1:-1].split(\",\"), p2[p2.find(\"(\")+1:-1].split(\",\")\n",
        "    if len(a1) != len(a2): return \"Cannot be unified\"\n",
        "\n",
        "    subs = {}\n",
        "    for x, y in zip(a1, a2):\n",
        "        x, y = x.strip(), y.strip()\n",
        "        if x == y: continue\n",
        "        if x.islower(): subs[x] = y\n",
        "        elif y.islower(): subs[y] = x\n",
        "        else: return \"Cannot be unified\"\n",
        "\n",
        "    return subs or \"Already unified\"\n",
        "\n",
        "# Test\n",
        "print(unify(\"Knows(John, x)\", \"Knows(Mary, y)\"))\n"
      ],
      "metadata": {
        "colab": {
          "base_uri": "https://localhost:8080/"
        },
        "id": "a7Xk--JqoTsn",
        "outputId": "a285dec4-6e15-452d-e177-90af5219249b"
      },
      "execution_count": 2,
      "outputs": [
        {
          "output_type": "stream",
          "name": "stdout",
          "text": [
            "Cannot be unified\n"
          ]
        }
      ]
    },
    {
      "cell_type": "markdown",
      "source": [
        "# **2. Forward Chaining**"
      ],
      "metadata": {
        "id": "w9yIzBN2ocw3"
      }
    },
    {
      "cell_type": "code",
      "source": [
        "facts = [\"Student(Francois)\"]\n",
        "rules = [(\"Student\", \"Studies\"), (\"Studies\", \"Passes\"), (\"Passes\", \"Graduates\")]\n",
        "\n",
        "seen = set(facts)\n",
        "\n",
        "for p, c in rules:\n",
        "    for f in list(facts):\n",
        "        if f.startswith(p):\n",
        "            name = f[f.find(\"(\")+1:-1]\n",
        "            new_fact = f\"{c}({name})\"\n",
        "            if new_fact not in seen:\n",
        "                facts.append(new_fact)\n",
        "                seen.add(new_fact)\n",
        "\n",
        "print(\"Final facts:\", facts)\n",
        "\n"
      ],
      "metadata": {
        "colab": {
          "base_uri": "https://localhost:8080/"
        },
        "id": "rZsiBEEloa9H",
        "outputId": "709321c3-21c6-4864-f239-da4ea3ec8a0b"
      },
      "execution_count": 17,
      "outputs": [
        {
          "output_type": "stream",
          "name": "stdout",
          "text": [
            "Final facts: ['Student(Francois)', 'Studies(Francois)', 'Passes(Francois)', 'Graduates(Francois)']\n"
          ]
        }
      ]
    },
    {
      "cell_type": "markdown",
      "source": [
        "# **3. Backward Chaining**"
      ],
      "metadata": {
        "id": "fIXE9XeQoii-"
      }
    },
    {
      "cell_type": "code",
      "source": [
        "facts = {\"Student(Carlos)\", \"Studies(Carlos)\", \"Submits(Carlos, IT101)\", \"Student(Ana)\", \"Studies(Ana)\", \"Submits(Ana, IT101)\"}\n",
        "premises = [\"Studies(x)\", \"Submits(x, IT101)\"]\n",
        "conclusion = \"Passed(x, IT101)\"\n",
        "\n",
        "def prove(goal):\n",
        "    if goal in facts: return True\n",
        "    if goal.startswith(\"Passed(\"):\n",
        "        name = goal[goal.find(\"(\")+1:goal.find(\",\")]\n",
        "        return all(prove(p.replace(\"x\", name)) for p in premises)\n",
        "    return False\n",
        "\n",
        "print(\"Carlos Passed?\", prove(\"Passed(Carlos, IT101)\"))\n",
        "print(\"Ana Passed?\", prove(\"Passed(Ana, IT101)\"))\n"
      ],
      "metadata": {
        "colab": {
          "base_uri": "https://localhost:8080/"
        },
        "id": "sbLSS3nIomav",
        "outputId": "32ca5f2c-24af-47b3-c737-9299d0aed466"
      },
      "execution_count": 14,
      "outputs": [
        {
          "output_type": "stream",
          "name": "stdout",
          "text": [
            "Carlos Passed? True\n",
            "Ana Passed? True\n"
          ]
        }
      ]
    }
  ]
}