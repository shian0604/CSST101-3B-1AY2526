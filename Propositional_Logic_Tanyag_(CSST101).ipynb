{
  "nbformat": 4,
  "nbformat_minor": 0,
  "metadata": {
    "colab": {
      "provenance": [],
      "authorship_tag": "ABX9TyPqxX5nZWgdZDG27RxQJ912",
      "include_colab_link": true
    },
    "kernelspec": {
      "name": "python3",
      "display_name": "Python 3"
    },
    "language_info": {
      "name": "python"
    }
  },
  "cells": [
    {
      "cell_type": "markdown",
      "metadata": {
        "id": "view-in-github",
        "colab_type": "text"
      },
      "source": [
        "<a href=\"https://colab.research.google.com/github/shian0604/CSST101-3B-1AY2526/blob/main/Propositional_Logic_Tanyag_(CSST101).ipynb\" target=\"_parent\"><img src=\"https://colab.research.google.com/assets/colab-badge.svg\" alt=\"Open In Colab\"/></a>"
      ]
    },
    {
      "cell_type": "code",
      "execution_count": 91,
      "metadata": {
        "id": "02qS1mswaxPb"
      },
      "outputs": [],
      "source": [
        "import csv\n",
        "from datetime import datetime\n",
        "\n",
        "# --- L O G I C F U N C T I ON S - - - #\n",
        "def impl(P, Q):\n",
        "  return (not P) or Q\n",
        "\n",
        "def tf(b:bool) -> str:\n",
        "  return \"T\" if b else \"F\"\n",
        "\n",
        "# - - - L O G G E R - - - #\n",
        "def log_result(student_name, rule_name, result):\n",
        "  with open(\"logic_results.csv\", \"a\", newline=\"\") as file:\n",
        "    writer = csv.writer(file)\n",
        "    timestamp = datetime.now().strftime(\"%Y-%m-%d %H:%M:%S\")\n",
        "    writer.writerow([timestamp, student_name, rule_name, result])"
      ]
    },
    {
      "cell_type": "code",
      "source": [
        "# - - - RULE 1: A T T E N D A N C E - - -\n",
        "def attendance_rule(student_name):\n",
        "  print(\"\\n- - - ATTENDANCE RULE CHECKER - - -\")\n",
        "  late = input(\"₍^. .^₎⟆ Is the student late? (T/F)\").strip().upper() == \"T\"\n",
        "  excuse = input(\"₍^. .^₎⟆ Did the student bring an excuse letter? (T/F) ⟡˖ ࣪\").strip().upper() == \"T\"\n",
        "\n",
        "  result = impl(late, excuse)\n",
        "  outcome = \"Satisfied ⟡˖ \" if result else \"Violated ⟡˖ \"\n",
        "\n",
        "  print(f\"P = {tf(late)} (Late), Q = {tf(excuse)} (Excuse Letter)\")\n",
        "  log_result(student_name, \"Attendance Rule\", tf(result))"
      ],
      "metadata": {
        "id": "IUp2bx8ujInn"
      },
      "execution_count": 92,
      "outputs": []
    },
    {
      "cell_type": "code",
      "source": [
        "# - - - RULE 2: G R A D I  N G - - -\n",
        "def grading_rule(student_name):\n",
        "  print(\"\\n- - -  GRADING RULE CHECKER - - -\")\n",
        "  try:\n",
        "    grade = float(input(\"₍^. .^₎⟆ Enter the student's grade: \"))\n",
        "  except ValueError:\n",
        "    print(\"₍^. .^₎⟆ Invalid grade Input\")\n",
        "    return\n",
        "\n",
        "  P = grade < 75\n",
        "  Q = grade >= 75\n",
        "\n",
        "  result = impl(P, Q)\n",
        "  outcome = \"Satisfied ⟡˖ \" if result else \"Violated ⟡˖ \"\n",
        "\n",
        "  print(f\"⟡˖  P = {tf(P)} (grade < 75), Q = {tf(Q)} (student passes - defined as grade >= 75) ⟡˖ \")\n",
        "  print(\"Result:\", outcome)\n",
        "\n",
        "  log_result(student_name, \"Grading Rule\", outcome)"
      ],
      "metadata": {
        "id": "d6a3APHhjN4F"
      },
      "execution_count": 93,
      "outputs": []
    },
    {
      "cell_type": "code",
      "source": [
        "# - - - RULE 3: L O G I N S Y S T E M - - -\n",
        "def login_rule(student_name):\n",
        "  print(\"\\n- - -  LOGIN RULE CHECKER - - -\")\n",
        "  correct_password = \"admin123\"\n",
        "  attempt = input(\"₍^. .^₎⟆ Enter Password: \")\n",
        "\n",
        "  P = (attempt != correct_password)\n",
        "  Q = (attempt == correct_password)\n",
        "  result = impl(P, Q)\n",
        "  outcome = \"Access Granted ⟡˖ \" if result else \"Access Denied ⟡˖ \"\n",
        "\n",
        "  print(f\"P = {tf(P)} (correct password), Q = {tf(Q)} (incorrect password)\")\n",
        "  print(\"Result:\", outcome)\n",
        "\n",
        "  log_result(student_name, \"Login Rule\", outcome)"
      ],
      "metadata": {
        "id": "ZiendOAOjRN9"
      },
      "execution_count": 94,
      "outputs": []
    },
    {
      "cell_type": "code",
      "source": [
        "def bonus_rule(student_name):\n",
        "    print(\"\\n- - -  BONUS POINTS ELIGIBILITY CHECKER - - -\")\n",
        "    regular = input(\"₍^. .^₎⟆ Does the student have a regular attendance? (T/F): \").strip().upper() == \"T\"\n",
        "\n",
        "    result = regular\n",
        "    outcome = \"Eligible ⟡˖ \" if result else \"Not Eligible ⟡˖ \"\n",
        "\n",
        "    print(f\"P = {tf(regular)} (regular attendance)\")\n",
        "    print(\"Result:\", outcome)\n",
        "\n",
        "    log_result(student_name, \"Bonus Points Rule\", outcome)\n"
      ],
      "metadata": {
        "id": "9Tz_kovqjRbG"
      },
      "execution_count": 95,
      "outputs": []
    },
    {
      "cell_type": "code",
      "source": [
        "def lab_access_rule(student_name):\n",
        "  print(\"\\n- - - LABORATORY ACCESS RULE CHECKER - - -\")\n",
        "  gear_worn = input(\"₍^. .^₎⟆ Is the student wearing safety gear? (T/F): \").strip().upper() == \"T\"\n",
        "\n",
        "  result = gear_worn\n",
        "  outcome = \"Eligible ⟡˖ \" if result else \"Not Eligible ⟡˖ \"\n",
        "\n",
        "  print(f\"P = {tf(gear_worn)} (Safety Gear)\")\n",
        "  print(\"Result:\", outcome)\n",
        "\n",
        "  log_result(student_name, \"Lab Access Rule\", outcome)\n"
      ],
      "metadata": {
        "id": "oWh9QZYVq1Jg"
      },
      "execution_count": 96,
      "outputs": []
    },
    {
      "cell_type": "code",
      "source": [
        "#= = = M A I N M E N U = = =\n",
        "\n",
        "def main():\n",
        "  print(\"=== UNIVERSITY LOGICAL RULES CHECKER ===\")\n",
        "  student_name = input(\"Enter Student Name: \")\n",
        "\n",
        "  while True:\n",
        "    print(\"⋆˚✿˖°⋆˚✿˖°⋆˚✿˖°⋆˚✿˖°⋆˚✿˖°⋆˚✿˖°\")\n",
        "    print(\"M A I N  M E N U\")\n",
        "    print(\"⋆˚✿˖°⋆˚✿˖°⋆˚✿˖°⋆˚✿˖°⋆˚✿˖°⋆˚✿˖°\")\n",
        "    print(\"\\n\")\n",
        "    print(\"(˶ˆᗜˆ˵)\")\n",
        "    print(\"1. Attendance Rule ⟡˖ ࣪\")\n",
        "    print(\"2. Grading Rule ⟡˖ ࣪\")\n",
        "    print(\"3. Login Rule ⟡˖ ࣪\")\n",
        "    print(\"4. Bonus Points Rule ⟡˖ ࣪\")\n",
        "    print(\"5. Lab Access Rule ⟡˖ ࣪\")\n",
        "    print(\"6. Exit ⟡˖ ࣪\")\n",
        "\n",
        "    choice = input(\"₍^. .^₎⟆ Choose an option (1/2/3/4/5/6): \")\n",
        "\n",
        "    if choice == \"1\":\n",
        "      attendance_rule(student_name)\n",
        "    elif choice == \"2\":\n",
        "      grading_rule(student_name)\n",
        "    elif choice == \"3\":\n",
        "      login_rule(student_name)\n",
        "    elif choice == \"4\":\n",
        "      bonus_rule(student_name)\n",
        "    elif choice == \"5\":\n",
        "      lab_access_rule(student_name)\n",
        "    elif choice == \"6\":\n",
        "      print(\"Exiting the program ⋆౨ৎ˚⟡˖ ࣪\")\n",
        "      break\n",
        "    else:\n",
        "      print(\"Invalid choice. Please select a valid option ⋆౨ৎ˚⟡˖ ࣪\")\n",
        "\n",
        "if __name__ == \"__main__\":\n",
        "  with open (\"logic_results.csv\", \"w\", newline=\"\") as file:\n",
        "    writer = csv.writer(file)\n",
        "    if file.tell() == 0:\n",
        "      writer.writerow([\"Timestamp\", \"Student Name\", \"Rule Name\", \"Result\"])\n",
        "  main()"
      ],
      "metadata": {
        "colab": {
          "base_uri": "https://localhost:8080/",
          "height": 1000
        },
        "id": "mA1PrEHnq7qP",
        "outputId": "8061691e-5a19-444b-82ec-2e2fa1023352"
      },
      "execution_count": 97,
      "outputs": [
        {
          "output_type": "stream",
          "name": "stdout",
          "text": [
            "=== UNIVERSITY LOGICAL RULES CHECKER ===\n",
            "Enter Student Name: J\n",
            "⋆˚✿˖°⋆˚✿˖°⋆˚✿˖°⋆˚✿˖°⋆˚✿˖°⋆˚✿˖°\n",
            "M A I N  M E N U\n",
            "⋆˚✿˖°⋆˚✿˖°⋆˚✿˖°⋆˚✿˖°⋆˚✿˖°⋆˚✿˖°\n",
            "\n",
            "\n",
            "(˶ˆᗜˆ˵)\n",
            "1. Attendance Rule ⟡˖ ࣪\n",
            "2. Grading Rule ⟡˖ ࣪\n",
            "3. Login Rule ⟡˖ ࣪\n",
            "4. Bonus Points Rule ⟡˖ ࣪\n",
            "5. Lab Access Rule ⟡˖ ࣪\n",
            "6. Exit ⟡˖ ࣪\n",
            "₍^. .^₎⟆ Choose an option (1/2/3/4/5/6): 5\n",
            "\n",
            "- - - LABORATORY ACCESS RULE CHECKER - - -\n",
            "₍^. .^₎⟆ Is the student wearing safety gear? (T/F): t\n",
            "P = T (Safety Gear)\n",
            "Result: Eligible ⟡˖ \n",
            "⋆˚✿˖°⋆˚✿˖°⋆˚✿˖°⋆˚✿˖°⋆˚✿˖°⋆˚✿˖°\n",
            "M A I N  M E N U\n",
            "⋆˚✿˖°⋆˚✿˖°⋆˚✿˖°⋆˚✿˖°⋆˚✿˖°⋆˚✿˖°\n",
            "\n",
            "\n",
            "(˶ˆᗜˆ˵)\n",
            "1. Attendance Rule ⟡˖ ࣪\n",
            "2. Grading Rule ⟡˖ ࣪\n",
            "3. Login Rule ⟡˖ ࣪\n",
            "4. Bonus Points Rule ⟡˖ ࣪\n",
            "5. Lab Access Rule ⟡˖ ࣪\n",
            "6. Exit ⟡˖ ࣪\n",
            "₍^. .^₎⟆ Choose an option (1/2/3/4/5/6): 5\n",
            "\n",
            "- - - LABORATORY ACCESS RULE CHECKER - - -\n",
            "₍^. .^₎⟆ Is the student wearing safety gear? (T/F): f\n",
            "P = F (Safety Gear)\n",
            "Result: Not Eligible ⟡˖ \n",
            "⋆˚✿˖°⋆˚✿˖°⋆˚✿˖°⋆˚✿˖°⋆˚✿˖°⋆˚✿˖°\n",
            "M A I N  M E N U\n",
            "⋆˚✿˖°⋆˚✿˖°⋆˚✿˖°⋆˚✿˖°⋆˚✿˖°⋆˚✿˖°\n",
            "\n",
            "\n",
            "(˶ˆᗜˆ˵)\n",
            "1. Attendance Rule ⟡˖ ࣪\n",
            "2. Grading Rule ⟡˖ ࣪\n",
            "3. Login Rule ⟡˖ ࣪\n",
            "4. Bonus Points Rule ⟡˖ ࣪\n",
            "5. Lab Access Rule ⟡˖ ࣪\n",
            "6. Exit ⟡˖ ࣪\n"
          ]
        },
        {
          "output_type": "error",
          "ename": "KeyboardInterrupt",
          "evalue": "Interrupted by user",
          "traceback": [
            "\u001b[0;31m---------------------------------------------------------------------------\u001b[0m",
            "\u001b[0;31mKeyboardInterrupt\u001b[0m                         Traceback (most recent call last)",
            "\u001b[0;32m/tmp/ipython-input-884680824.py\u001b[0m in \u001b[0;36m<cell line: 0>\u001b[0;34m()\u001b[0m\n\u001b[1;32m     41\u001b[0m     \u001b[0;32mif\u001b[0m \u001b[0mfile\u001b[0m\u001b[0;34m.\u001b[0m\u001b[0mtell\u001b[0m\u001b[0;34m(\u001b[0m\u001b[0;34m)\u001b[0m \u001b[0;34m==\u001b[0m \u001b[0;36m0\u001b[0m\u001b[0;34m:\u001b[0m\u001b[0;34m\u001b[0m\u001b[0;34m\u001b[0m\u001b[0m\n\u001b[1;32m     42\u001b[0m       \u001b[0mwriter\u001b[0m\u001b[0;34m.\u001b[0m\u001b[0mwriterow\u001b[0m\u001b[0;34m(\u001b[0m\u001b[0;34m[\u001b[0m\u001b[0;34m\"Timestamp\"\u001b[0m\u001b[0;34m,\u001b[0m \u001b[0;34m\"Student Name\"\u001b[0m\u001b[0;34m,\u001b[0m \u001b[0;34m\"Rule Name\"\u001b[0m\u001b[0;34m,\u001b[0m \u001b[0;34m\"Result\"\u001b[0m\u001b[0;34m]\u001b[0m\u001b[0;34m)\u001b[0m\u001b[0;34m\u001b[0m\u001b[0;34m\u001b[0m\u001b[0m\n\u001b[0;32m---> 43\u001b[0;31m   \u001b[0mmain\u001b[0m\u001b[0;34m(\u001b[0m\u001b[0;34m)\u001b[0m\u001b[0;34m\u001b[0m\u001b[0;34m\u001b[0m\u001b[0m\n\u001b[0m",
            "\u001b[0;32m/tmp/ipython-input-884680824.py\u001b[0m in \u001b[0;36mmain\u001b[0;34m()\u001b[0m\n\u001b[1;32m     18\u001b[0m     \u001b[0mprint\u001b[0m\u001b[0;34m(\u001b[0m\u001b[0;34m\"6. Exit ⟡˖ ࣪\"\u001b[0m\u001b[0;34m)\u001b[0m\u001b[0;34m\u001b[0m\u001b[0;34m\u001b[0m\u001b[0m\n\u001b[1;32m     19\u001b[0m \u001b[0;34m\u001b[0m\u001b[0m\n\u001b[0;32m---> 20\u001b[0;31m     \u001b[0mchoice\u001b[0m \u001b[0;34m=\u001b[0m \u001b[0minput\u001b[0m\u001b[0;34m(\u001b[0m\u001b[0;34m\"₍^. .^₎⟆ Choose an option (1/2/3/4/5/6): \"\u001b[0m\u001b[0;34m)\u001b[0m\u001b[0;34m\u001b[0m\u001b[0;34m\u001b[0m\u001b[0m\n\u001b[0m\u001b[1;32m     21\u001b[0m \u001b[0;34m\u001b[0m\u001b[0m\n\u001b[1;32m     22\u001b[0m     \u001b[0;32mif\u001b[0m \u001b[0mchoice\u001b[0m \u001b[0;34m==\u001b[0m \u001b[0;34m\"1\"\u001b[0m\u001b[0;34m:\u001b[0m\u001b[0;34m\u001b[0m\u001b[0;34m\u001b[0m\u001b[0m\n",
            "\u001b[0;32m/usr/local/lib/python3.12/dist-packages/ipykernel/kernelbase.py\u001b[0m in \u001b[0;36mraw_input\u001b[0;34m(self, prompt)\u001b[0m\n\u001b[1;32m   1175\u001b[0m                 \u001b[0;34m\"raw_input was called, but this frontend does not support input requests.\"\u001b[0m\u001b[0;34m\u001b[0m\u001b[0;34m\u001b[0m\u001b[0m\n\u001b[1;32m   1176\u001b[0m             )\n\u001b[0;32m-> 1177\u001b[0;31m         return self._input_request(\n\u001b[0m\u001b[1;32m   1178\u001b[0m             \u001b[0mstr\u001b[0m\u001b[0;34m(\u001b[0m\u001b[0mprompt\u001b[0m\u001b[0;34m)\u001b[0m\u001b[0;34m,\u001b[0m\u001b[0;34m\u001b[0m\u001b[0;34m\u001b[0m\u001b[0m\n\u001b[1;32m   1179\u001b[0m             \u001b[0mself\u001b[0m\u001b[0;34m.\u001b[0m\u001b[0m_parent_ident\u001b[0m\u001b[0;34m[\u001b[0m\u001b[0;34m\"shell\"\u001b[0m\u001b[0;34m]\u001b[0m\u001b[0;34m,\u001b[0m\u001b[0;34m\u001b[0m\u001b[0;34m\u001b[0m\u001b[0m\n",
            "\u001b[0;32m/usr/local/lib/python3.12/dist-packages/ipykernel/kernelbase.py\u001b[0m in \u001b[0;36m_input_request\u001b[0;34m(self, prompt, ident, parent, password)\u001b[0m\n\u001b[1;32m   1217\u001b[0m             \u001b[0;32mexcept\u001b[0m \u001b[0mKeyboardInterrupt\u001b[0m\u001b[0;34m:\u001b[0m\u001b[0;34m\u001b[0m\u001b[0;34m\u001b[0m\u001b[0m\n\u001b[1;32m   1218\u001b[0m                 \u001b[0;31m# re-raise KeyboardInterrupt, to truncate traceback\u001b[0m\u001b[0;34m\u001b[0m\u001b[0;34m\u001b[0m\u001b[0m\n\u001b[0;32m-> 1219\u001b[0;31m                 \u001b[0;32mraise\u001b[0m \u001b[0mKeyboardInterrupt\u001b[0m\u001b[0;34m(\u001b[0m\u001b[0;34m\"Interrupted by user\"\u001b[0m\u001b[0;34m)\u001b[0m \u001b[0;32mfrom\u001b[0m \u001b[0;32mNone\u001b[0m\u001b[0;34m\u001b[0m\u001b[0;34m\u001b[0m\u001b[0m\n\u001b[0m\u001b[1;32m   1220\u001b[0m             \u001b[0;32mexcept\u001b[0m \u001b[0mException\u001b[0m\u001b[0;34m:\u001b[0m\u001b[0;34m\u001b[0m\u001b[0;34m\u001b[0m\u001b[0m\n\u001b[1;32m   1221\u001b[0m                 \u001b[0mself\u001b[0m\u001b[0;34m.\u001b[0m\u001b[0mlog\u001b[0m\u001b[0;34m.\u001b[0m\u001b[0mwarning\u001b[0m\u001b[0;34m(\u001b[0m\u001b[0;34m\"Invalid Message:\"\u001b[0m\u001b[0;34m,\u001b[0m \u001b[0mexc_info\u001b[0m\u001b[0;34m=\u001b[0m\u001b[0;32mTrue\u001b[0m\u001b[0;34m)\u001b[0m\u001b[0;34m\u001b[0m\u001b[0;34m\u001b[0m\u001b[0m\n",
            "\u001b[0;31mKeyboardInterrupt\u001b[0m: Interrupted by user"
          ]
        }
      ]
    }
  ]
}