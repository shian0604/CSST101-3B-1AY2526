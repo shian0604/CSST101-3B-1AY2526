{
  "nbformat": 4,
  "nbformat_minor": 0,
  "metadata": {
    "colab": {
      "provenance": [],
      "authorship_tag": "ABX9TyPfdwsIRaImJT6y2L/0RN8l",
      "include_colab_link": true
    },
    "kernelspec": {
      "name": "python3",
      "display_name": "Python 3"
    },
    "language_info": {
      "name": "python"
    }
  },
  "cells": [
    {
      "cell_type": "markdown",
      "metadata": {
        "id": "view-in-github",
        "colab_type": "text"
      },
      "source": [
        "<a href=\"https://colab.research.google.com/github/shian0604/CSST101-3B-1AY2526/blob/main/Propositional_Logic_Tanyag_(CSST101).ipynb\" target=\"_parent\"><img src=\"https://colab.research.google.com/assets/colab-badge.svg\" alt=\"Open In Colab\"/></a>"
      ]
    },
    {
      "cell_type": "code",
      "execution_count": 57,
      "metadata": {
        "id": "02qS1mswaxPb"
      },
      "outputs": [],
      "source": [
        "import csv\n",
        "from datetime import datetime\n",
        "\n",
        "# --- L O G I C F U N C T I ON S - - - #\n",
        "def impl(P, Q):\n",
        "  return (not P) or Q\n",
        "\n",
        "def tf(b:bool) -> str:\n",
        "  return \"T\" if b else \"F\"\n",
        "\n",
        "# - - - L O G G E R - - - #\n",
        "def log_result(student_name, rule_name, result):\n",
        "  with open(\"logic_results.csv\", \"a\", newline=\"\") as file:\n",
        "    writer = csv.writer(file)\n",
        "    timestamp = datetime.now().strftime(\"%Y-%m-%d %H:%M:%S\")\n",
        "    writer.writerow([timestamp, student_name, rule_name, result])"
      ]
    },
    {
      "cell_type": "code",
      "source": [
        "# - - - RULE 1: A T T E N D A N C E - - -\n",
        "def attendance_rule(student_name):\n",
        "  print(\"\\n- - - ATTENDANCE RULE CHECKER - - -\")\n",
        "  late = input(\"Is the student late? (T/F)\").strip().upper() == \"T\"\n",
        "  excuse = input(\"Did the student bring an excuse letter? (T/F)\").strip().upper() == \"T\"\n",
        "\n",
        "  result = impl(late, excuse)\n",
        "  outcome = \"Satisfied\" if result else \"Violated\"\n",
        "\n",
        "  print(f\"P = {tf(late)} (Late), Q = {tf(excuse)} (Excuse Letter)\")\n",
        "  log_result(student_name, \"Attendance Rule\", tf(result))"
      ],
      "metadata": {
        "id": "IUp2bx8ujInn"
      },
      "execution_count": 58,
      "outputs": []
    },
    {
      "cell_type": "code",
      "source": [
        "# - - - RULE 2: G R A D I  N G - - -\n",
        "def grading_rule(student_name):\n",
        "  print(\"\\n- - -  GRADING RULE CHECKER - - -\")\n",
        "  try:\n",
        "    grade = float(input(\"Enter the student's grade: \"))\n",
        "  except ValueError:\n",
        "    print(\"Invalid grade Input\")\n",
        "    return\n",
        "\n",
        "  P = grade < 75\n",
        "  Q = grade >= 75\n",
        "\n",
        "  result = impl(P, Q)\n",
        "  outcome = \"Satisfied\" if result else \"Violated\"\n",
        "\n",
        "  print(f\"P = {tf(P)} (grade < 75), Q = {tf(Q)} (student passes - defined as grade >= 75)\")\n",
        "  print(\"Result:\", outcome)\n",
        "\n",
        "  log_result(student_name, \"Grading Rule\", outcome)"
      ],
      "metadata": {
        "id": "d6a3APHhjN4F"
      },
      "execution_count": 59,
      "outputs": []
    },
    {
      "cell_type": "code",
      "source": [
        "# - - - RULE 3: L O G I N S Y S T E M - - -\n",
        "def login_rule(student_name):\n",
        "  print(\"\\n- - -  LOGIN RULE CHECKER - - -\")\n",
        "  correct_password = \"admin123\"\n",
        "  attempt = input(\"Enter Password: \")\n",
        "\n",
        "  P = (attempt != correct_password)\n",
        "  Q = (attempt == correct_password)\n",
        "  result = impl(P, Q)\n",
        "  outcome = \"Access Granted\" if result else \"Access Denied\"\n",
        "\n",
        "  print(f\"P = {tf(P)} (correct password), Q = {tf(Q)} (incorrect password)\")\n",
        "  print(\"Result:\", outcome)\n",
        "\n",
        "  log_result(student_name, \"Login Rule\", outcome)"
      ],
      "metadata": {
        "id": "ZiendOAOjRN9"
      },
      "execution_count": 60,
      "outputs": []
    },
    {
      "cell_type": "code",
      "source": [
        "# - - - RULE 4: B O N U S P O I N T S - - -\n",
        "def bonus_rule(student_name):\n",
        "  print(\"\\n- - -  BONUS POINTS ELIGIBILITY CHECKER - - -\")\n",
        "  regular = input(\"Does the student have a regular attendance? (T/F): \").strip().upper() == \"T\"\n",
        "\n",
        "  bonus = regular\n",
        "  result = impl(regular, bonus)\n",
        "  outcome = \"Eligible\" if result else \"Not Eligible\"\n",
        "\n",
        "  print(f\"P = {tf(regular)} (regular attendance), Q = {tf(bonus)} (bonus points)\")\n",
        "  print(\"Result:\", outcome)\n",
        "\n",
        "  log_result(student_name, \"Bonus Points Rule\", outcome)\n",
        "\n",
        "\n"
      ],
      "metadata": {
        "id": "9Tz_kovqjRbG"
      },
      "execution_count": 61,
      "outputs": []
    }
  ]
}